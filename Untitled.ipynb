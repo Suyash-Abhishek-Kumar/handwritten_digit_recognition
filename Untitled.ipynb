{
 "cells": [
  {
   "cell_type": "markdown",
   "id": "250dcb71-36db-429a-ae14-e07d761cd651",
   "metadata": {},
   "source": [
    "Imports"
   ]
  },
  {
   "cell_type": "code",
   "execution_count": 9,
   "id": "5c527145-81e2-4ea8-9144-8c8c6b457f8c",
   "metadata": {},
   "outputs": [],
   "source": [
    "import torch\n",
    "import torch.nn as nn\n",
    "import torch.optim as optim\n",
    "from torchvision import datasets, transforms\n",
    "from torch.utils.data import DataLoader"
   ]
  },
  {
   "cell_type": "markdown",
   "id": "62f5c34c-4a46-4b67-98f1-ebec8ff60e5d",
   "metadata": {},
   "source": [
    "Data preparation"
   ]
  },
  {
   "cell_type": "code",
   "execution_count": 11,
   "id": "32702216-95d0-428c-8696-dc9732bd49ba",
   "metadata": {},
   "outputs": [
    {
     "name": "stderr",
     "output_type": "stream",
     "text": [
      "100%|██████████| 9.91M/9.91M [00:05<00:00, 1.75MB/s]\n",
      "100%|██████████| 28.9k/28.9k [00:00<00:00, 55.4kB/s]\n",
      "100%|██████████| 1.65M/1.65M [00:01<00:00, 828kB/s]\n",
      "100%|██████████| 4.54k/4.54k [00:00<?, ?B/s]\n"
     ]
    }
   ],
   "source": [
    "transform = transforms.Compose([transforms.ToTensor()])\n",
    "train_data = datasets.MNIST(root='./data', train=True, download=True, transform=transform)\n",
    "test_data = datasets.MNIST(root='./data', train=False, download=True, transform=transform)\n",
    "train_loader = DataLoader(train_data, batch_size=64, shuffle=True)\n",
    "test_loader = DataLoader(test_data, batch_size=1000, shuffle=False)"
   ]
  },
  {
   "cell_type": "markdown",
   "id": "f02c05de-d55b-4671-8b6c-1a9f60f8eb62",
   "metadata": {},
   "source": [
    "Simple CNN model"
   ]
  },
  {
   "cell_type": "code",
   "execution_count": 19,
   "id": "624a699d-b84a-4e87-b4c3-a95a1e80b051",
   "metadata": {},
   "outputs": [],
   "source": [
    "class SimpleCNN(nn.Module):\n",
    "    def __init__(self):\n",
    "        super(SimpleCNN, self).__init__()\n",
    "        self.conv1 = nn.Conv2d(1, 32, 3, 1)\n",
    "        self.conv2 = nn.Conv2d(32, 64, 3, 1)\n",
    "        self.fc1 = nn.Linear(24*24*64, 128)\n",
    "        self.fc2 = nn.Linear(128, 10)\n",
    "\n",
    "    def forward(self, x):\n",
    "        x = torch.relu(self.conv1(x))  # Output shape: [64, 32, 26, 26]\n",
    "        x = torch.relu(self.conv2(x))  # Output shape: [64, 64, 24, 24]\n",
    "        x = torch.flatten(x, 1)        # Flattened shape: [64, 24*24*64] = [64, 36,864]\n",
    "        x = torch.relu(self.fc1(x))\n",
    "        x = self.fc2(x)\n",
    "        return x\n"
   ]
  },
  {
   "cell_type": "code",
   "execution_count": 20,
   "id": "eb0f2bed-13f5-4257-86af-c02be6443f6f",
   "metadata": {},
   "outputs": [],
   "source": [
    "model = SimpleCNN()\n",
    "optimizer = optim.Adam(model.parameters())\n",
    "criterion = nn.CrossEntropyLoss()"
   ]
  },
  {
   "cell_type": "markdown",
   "id": "f7afa576-81c4-42d8-84eb-5ed998f2b141",
   "metadata": {},
   "source": [
    "Training loop (1 epoch for brevity)"
   ]
  },
  {
   "cell_type": "code",
   "execution_count": 22,
   "id": "0e4f1c4f-be7b-4d07-a313-c1d55fff0422",
   "metadata": {},
   "outputs": [
    {
     "name": "stdout",
     "output_type": "stream",
     "text": [
      "Epoch 1 complete\n"
     ]
    }
   ],
   "source": [
    "for epoch in range(1):\n",
    "    for data, target in train_loader:\n",
    "        optimizer.zero_grad()\n",
    "        output = model(data)\n",
    "        loss = criterion(output, target)\n",
    "        loss.backward()\n",
    "        optimizer.step()\n",
    "    print(f\"Epoch {epoch+1} complete\")"
   ]
  },
  {
   "cell_type": "markdown",
   "id": "b43afc13-8ae1-4c12-934f-fddc0020f219",
   "metadata": {},
   "source": [
    "Evaluation"
   ]
  },
  {
   "cell_type": "code",
   "execution_count": 24,
   "id": "5a0e9228-ca2c-429f-8061-9910f758abac",
   "metadata": {},
   "outputs": [
    {
     "name": "stdout",
     "output_type": "stream",
     "text": [
      "Test Accuracy: 98.09%\n"
     ]
    }
   ],
   "source": [
    "correct = 0\n",
    "total = 0\n",
    "with torch.no_grad():\n",
    "    for data, target in test_loader:\n",
    "        output = model(data)\n",
    "        pred = output.argmax(dim=1)\n",
    "        correct += (pred == target).sum().item()\n",
    "        total += target.size(0)\n",
    "print(f\"Test Accuracy: {correct / total:.2%}\")"
   ]
  },
  {
   "cell_type": "markdown",
   "id": "46a46965-6e39-43e9-87bb-873498b8716b",
   "metadata": {},
   "source": [
    "Save Model"
   ]
  },
  {
   "cell_type": "code",
   "execution_count": 30,
   "id": "ed9d3e5e-0b8b-431b-9949-31917e324eaa",
   "metadata": {},
   "outputs": [],
   "source": [
    "torch.save(model.state_dict(), 'model.pth')"
   ]
  },
  {
   "cell_type": "code",
   "execution_count": null,
   "id": "788e3c05-aab6-4027-bdbd-e73618630909",
   "metadata": {},
   "outputs": [],
   "source": []
  }
 ],
 "metadata": {
  "kernelspec": {
   "display_name": "Python [conda env:base] *",
   "language": "python",
   "name": "conda-base-py"
  },
  "language_info": {
   "codemirror_mode": {
    "name": "ipython",
    "version": 3
   },
   "file_extension": ".py",
   "mimetype": "text/x-python",
   "name": "python",
   "nbconvert_exporter": "python",
   "pygments_lexer": "ipython3",
   "version": "3.12.7"
  }
 },
 "nbformat": 4,
 "nbformat_minor": 5
}
